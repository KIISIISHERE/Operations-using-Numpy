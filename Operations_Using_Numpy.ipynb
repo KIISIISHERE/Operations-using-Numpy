{
  "nbformat": 4,
  "nbformat_minor": 0,
  "metadata": {
    "colab": {
      "provenance": [],
      "authorship_tag": "ABX9TyPx727ocwet4lMIelhkZAYN",
      "include_colab_link": true
    },
    "kernelspec": {
      "name": "python3",
      "display_name": "Python 3"
    },
    "language_info": {
      "name": "python"
    }
  },
  "cells": [
    {
      "cell_type": "markdown",
      "metadata": {
        "id": "view-in-github",
        "colab_type": "text"
      },
      "source": [
        "<a href=\"https://colab.research.google.com/github/KIISIISHERE/Operations-using-Numpy/blob/main/Operations_Using_Numpy.ipynb\" target=\"_parent\"><img src=\"https://colab.research.google.com/assets/colab-badge.svg\" alt=\"Open In Colab\"/></a>"
      ]
    },
    {
      "cell_type": "code",
      "execution_count": 2,
      "metadata": {
        "colab": {
          "base_uri": "https://localhost:8080/"
        },
        "id": "PQ4NH4kEmI9b",
        "outputId": "c8d1b124-4781-4a37-e908-aca5960590c0"
      },
      "outputs": [
        {
          "output_type": "stream",
          "name": "stdout",
          "text": [
            "Original Array:\n",
            " [0 1 2 3 4 5 6 7 8 9]\n",
            "\n",
            "Modified Array (odd numbers replaced with -1):\n",
            " [ 0 -1  2 -1  4 -1  6 -1  8 -1]\n",
            "\n",
            "2D Array with two rows:\n",
            " [[0 1 2 3 4]\n",
            " [5 6 7 8 9]]\n",
            "\n",
            "Sum of all elements in the original array: 45\n"
          ]
        }
      ],
      "source": [
        "import numpy as np\n",
        "\n",
        "# 1. Create an array consisting of linearly spaced elements between 0 to 9\n",
        "original_array = np.linspace(0, 9, 10, dtype=int)\n",
        "print(\"Original Array:\\n\", original_array)\n",
        "\n",
        "# 2. Replace all odd numbers in this array with -1 without modifying the original array\n",
        "modified_array = np.where(original_array % 2 != 0, -1, original_array)\n",
        "print(\"\\nModified Array (odd numbers replaced with -1):\\n\", modified_array)\n",
        "\n",
        "# 3. Create a new array that contains the original 1D array converted into a 2D array with two rows\n",
        "two_dim_array = np.reshape(original_array, (2, 5))\n",
        "print(\"\\n2D Array with two rows:\\n\", two_dim_array)\n",
        "\n",
        "# 4. Iterate through the original array and find the sum of all elements\n",
        "total_sum = np.sum(original_array)\n",
        "print(\"\\nSum of all elements in the original array:\", total_sum)\n"
      ]
    },
    {
      "cell_type": "markdown",
      "source": [
        "✅ Quick Notes:\n",
        "np.linspace(0, 9, 10, dtype=int) creates 10 evenly spaced integers from 0 to 9.\n",
        "\n",
        "np.where() is used to replace odd numbers with -1 while keeping the original array unchanged.\n",
        "\n",
        "np.reshape() is used to convert the 1D array into a 2D array with 2 rows and 5 columns.\n",
        "\n",
        "np.sum() adds up all elements of the array."
      ],
      "metadata": {
        "id": "YUNBc_0snupJ"
      }
    }
  ]
}